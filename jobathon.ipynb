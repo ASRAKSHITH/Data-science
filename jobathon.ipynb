{
  "nbformat": 4,
  "nbformat_minor": 0,
  "metadata": {
    "colab": {
      "name": "jobathon.ipynb",
      "provenance": [],
      "collapsed_sections": []
    },
    "kernelspec": {
      "name": "python3",
      "display_name": "Python 3"
    },
    "language_info": {
      "name": "python"
    }
  },
  "cells": [
    {
      "cell_type": "markdown",
      "metadata": {
        "id": "EC-VqPINWVPg"
      },
      "source": [
        "Step 1: Importing the Relevant Libraries\n"
      ]
    },
    {
      "cell_type": "code",
      "metadata": {
        "id": "tSoPMqByWDcH"
      },
      "source": [
        "import pandas as pd\n",
        "import matplotlib.pyplot as plt\n",
        "from  sklearn import preprocessing\n",
        "import numpy as np\n",
        "import seaborn as sns\n",
        "\n",
        "from sklearn.preprocessing import LabelEncoder\n",
        "from sklearn.model_selection import train_test_split\n",
        "from sklearn import metrics\n",
        "import tensorflow as tf"
      ],
      "execution_count": 1,
      "outputs": []
    },
    {
      "cell_type": "markdown",
      "metadata": {
        "id": "bXw7r73sW4Av"
      },
      "source": [
        "Step 2: Data "
      ]
    },
    {
      "cell_type": "code",
      "metadata": {
        "id": "zyAGf3rIXCW-"
      },
      "source": [
        "train = pd.read_csv(\"TRAIN.csv\")\n",
        "test = pd.read_csv(\"TEST_FINAL.csv\")"
      ],
      "execution_count": 3,
      "outputs": []
    },
    {
      "cell_type": "code",
      "metadata": {
        "colab": {
          "base_uri": "https://localhost:8080/"
        },
        "id": "VWJDmR9NY3Rt",
        "outputId": "38f60624-70c4-481d-921c-9beb8df90e59"
      },
      "source": [
        "train.shape,test.shape"
      ],
      "execution_count": 4,
      "outputs": [
        {
          "output_type": "execute_result",
          "data": {
            "text/plain": [
              "((188340, 10), (22265, 8))"
            ]
          },
          "metadata": {},
          "execution_count": 4
        }
      ]
    },
    {
      "cell_type": "code",
      "metadata": {
        "colab": {
          "base_uri": "https://localhost:8080/"
        },
        "id": "8yTmbvTDZBpU",
        "outputId": "1254f9f6-beb7-443a-a667-26d3c4e13f4d"
      },
      "source": [
        "#ratio of null values\n",
        "train.isnull().sum()/train.shape[0] *100"
      ],
      "execution_count": 5,
      "outputs": [
        {
          "output_type": "execute_result",
          "data": {
            "text/plain": [
              "ID               0.0\n",
              "Store_id         0.0\n",
              "Store_Type       0.0\n",
              "Location_Type    0.0\n",
              "Region_Code      0.0\n",
              "Date             0.0\n",
              "Holiday          0.0\n",
              "Discount         0.0\n",
              "#Order           0.0\n",
              "Sales            0.0\n",
              "dtype: float64"
            ]
          },
          "metadata": {},
          "execution_count": 5
        }
      ]
    },
    {
      "cell_type": "code",
      "metadata": {
        "colab": {
          "base_uri": "https://localhost:8080/"
        },
        "id": "Yw27OftQZLkG",
        "outputId": "f15d6421-4cce-4b07-891f-df87b84a46c5"
      },
      "source": [
        "#ratio of null values\n",
        "test.isnull().sum()/test.shape[0] *100"
      ],
      "execution_count": 6,
      "outputs": [
        {
          "output_type": "execute_result",
          "data": {
            "text/plain": [
              "ID               0.0\n",
              "Store_id         0.0\n",
              "Store_Type       0.0\n",
              "Location_Type    0.0\n",
              "Region_Code      0.0\n",
              "Date             0.0\n",
              "Holiday          0.0\n",
              "Discount         0.0\n",
              "dtype: float64"
            ]
          },
          "metadata": {},
          "execution_count": 6
        }
      ]
    },
    {
      "cell_type": "code",
      "metadata": {
        "colab": {
          "base_uri": "https://localhost:8080/",
          "height": 427
        },
        "id": "xIlZk00JaFZX",
        "outputId": "9737fb37-f4bb-4b29-b6ae-f5631c97418e"
      },
      "source": [
        "train.describe(include= 'all')"
      ],
      "execution_count": 10,
      "outputs": [
        {
          "output_type": "execute_result",
          "data": {
            "text/html": [
              "<div>\n",
              "<style scoped>\n",
              "    .dataframe tbody tr th:only-of-type {\n",
              "        vertical-align: middle;\n",
              "    }\n",
              "\n",
              "    .dataframe tbody tr th {\n",
              "        vertical-align: top;\n",
              "    }\n",
              "\n",
              "    .dataframe thead th {\n",
              "        text-align: right;\n",
              "    }\n",
              "</style>\n",
              "<table border=\"1\" class=\"dataframe\">\n",
              "  <thead>\n",
              "    <tr style=\"text-align: right;\">\n",
              "      <th></th>\n",
              "      <th>ID</th>\n",
              "      <th>Store_id</th>\n",
              "      <th>Store_Type</th>\n",
              "      <th>Location_Type</th>\n",
              "      <th>Region_Code</th>\n",
              "      <th>Date</th>\n",
              "      <th>Holiday</th>\n",
              "      <th>Discount</th>\n",
              "      <th>#Order</th>\n",
              "      <th>Sales</th>\n",
              "    </tr>\n",
              "  </thead>\n",
              "  <tbody>\n",
              "    <tr>\n",
              "      <th>count</th>\n",
              "      <td>188340</td>\n",
              "      <td>188340.000000</td>\n",
              "      <td>188340</td>\n",
              "      <td>188340</td>\n",
              "      <td>188340</td>\n",
              "      <td>188340</td>\n",
              "      <td>188340.000000</td>\n",
              "      <td>188340</td>\n",
              "      <td>188340.000000</td>\n",
              "      <td>188340.000000</td>\n",
              "    </tr>\n",
              "    <tr>\n",
              "      <th>unique</th>\n",
              "      <td>188340</td>\n",
              "      <td>NaN</td>\n",
              "      <td>4</td>\n",
              "      <td>5</td>\n",
              "      <td>4</td>\n",
              "      <td>516</td>\n",
              "      <td>NaN</td>\n",
              "      <td>2</td>\n",
              "      <td>NaN</td>\n",
              "      <td>NaN</td>\n",
              "    </tr>\n",
              "    <tr>\n",
              "      <th>top</th>\n",
              "      <td>T1088315</td>\n",
              "      <td>NaN</td>\n",
              "      <td>S1</td>\n",
              "      <td>L1</td>\n",
              "      <td>R1</td>\n",
              "      <td>2019-01-31</td>\n",
              "      <td>NaN</td>\n",
              "      <td>No</td>\n",
              "      <td>NaN</td>\n",
              "      <td>NaN</td>\n",
              "    </tr>\n",
              "    <tr>\n",
              "      <th>freq</th>\n",
              "      <td>1</td>\n",
              "      <td>NaN</td>\n",
              "      <td>88752</td>\n",
              "      <td>85140</td>\n",
              "      <td>63984</td>\n",
              "      <td>365</td>\n",
              "      <td>NaN</td>\n",
              "      <td>104051</td>\n",
              "      <td>NaN</td>\n",
              "      <td>NaN</td>\n",
              "    </tr>\n",
              "    <tr>\n",
              "      <th>mean</th>\n",
              "      <td>NaN</td>\n",
              "      <td>183.000000</td>\n",
              "      <td>NaN</td>\n",
              "      <td>NaN</td>\n",
              "      <td>NaN</td>\n",
              "      <td>NaN</td>\n",
              "      <td>0.131783</td>\n",
              "      <td>NaN</td>\n",
              "      <td>68.205692</td>\n",
              "      <td>42784.327982</td>\n",
              "    </tr>\n",
              "    <tr>\n",
              "      <th>std</th>\n",
              "      <td>NaN</td>\n",
              "      <td>105.366308</td>\n",
              "      <td>NaN</td>\n",
              "      <td>NaN</td>\n",
              "      <td>NaN</td>\n",
              "      <td>NaN</td>\n",
              "      <td>0.338256</td>\n",
              "      <td>NaN</td>\n",
              "      <td>30.467415</td>\n",
              "      <td>18456.708302</td>\n",
              "    </tr>\n",
              "    <tr>\n",
              "      <th>min</th>\n",
              "      <td>NaN</td>\n",
              "      <td>1.000000</td>\n",
              "      <td>NaN</td>\n",
              "      <td>NaN</td>\n",
              "      <td>NaN</td>\n",
              "      <td>NaN</td>\n",
              "      <td>0.000000</td>\n",
              "      <td>NaN</td>\n",
              "      <td>0.000000</td>\n",
              "      <td>0.000000</td>\n",
              "    </tr>\n",
              "    <tr>\n",
              "      <th>25%</th>\n",
              "      <td>NaN</td>\n",
              "      <td>92.000000</td>\n",
              "      <td>NaN</td>\n",
              "      <td>NaN</td>\n",
              "      <td>NaN</td>\n",
              "      <td>NaN</td>\n",
              "      <td>0.000000</td>\n",
              "      <td>NaN</td>\n",
              "      <td>48.000000</td>\n",
              "      <td>30426.000000</td>\n",
              "    </tr>\n",
              "    <tr>\n",
              "      <th>50%</th>\n",
              "      <td>NaN</td>\n",
              "      <td>183.000000</td>\n",
              "      <td>NaN</td>\n",
              "      <td>NaN</td>\n",
              "      <td>NaN</td>\n",
              "      <td>NaN</td>\n",
              "      <td>0.000000</td>\n",
              "      <td>NaN</td>\n",
              "      <td>63.000000</td>\n",
              "      <td>39678.000000</td>\n",
              "    </tr>\n",
              "    <tr>\n",
              "      <th>75%</th>\n",
              "      <td>NaN</td>\n",
              "      <td>274.000000</td>\n",
              "      <td>NaN</td>\n",
              "      <td>NaN</td>\n",
              "      <td>NaN</td>\n",
              "      <td>NaN</td>\n",
              "      <td>0.000000</td>\n",
              "      <td>NaN</td>\n",
              "      <td>82.000000</td>\n",
              "      <td>51909.000000</td>\n",
              "    </tr>\n",
              "    <tr>\n",
              "      <th>max</th>\n",
              "      <td>NaN</td>\n",
              "      <td>365.000000</td>\n",
              "      <td>NaN</td>\n",
              "      <td>NaN</td>\n",
              "      <td>NaN</td>\n",
              "      <td>NaN</td>\n",
              "      <td>1.000000</td>\n",
              "      <td>NaN</td>\n",
              "      <td>371.000000</td>\n",
              "      <td>247215.000000</td>\n",
              "    </tr>\n",
              "  </tbody>\n",
              "</table>\n",
              "</div>"
            ],
            "text/plain": [
              "              ID       Store_id  ...         #Order          Sales\n",
              "count     188340  188340.000000  ...  188340.000000  188340.000000\n",
              "unique    188340            NaN  ...            NaN            NaN\n",
              "top     T1088315            NaN  ...            NaN            NaN\n",
              "freq           1            NaN  ...            NaN            NaN\n",
              "mean         NaN     183.000000  ...      68.205692   42784.327982\n",
              "std          NaN     105.366308  ...      30.467415   18456.708302\n",
              "min          NaN       1.000000  ...       0.000000       0.000000\n",
              "25%          NaN      92.000000  ...      48.000000   30426.000000\n",
              "50%          NaN     183.000000  ...      63.000000   39678.000000\n",
              "75%          NaN     274.000000  ...      82.000000   51909.000000\n",
              "max          NaN     365.000000  ...     371.000000  247215.000000\n",
              "\n",
              "[11 rows x 10 columns]"
            ]
          },
          "metadata": {},
          "execution_count": 10
        }
      ]
    },
    {
      "cell_type": "markdown",
      "metadata": {
        "id": "t7k07XCvZukL"
      },
      "source": [
        "Data Cleaning"
      ]
    },
    {
      "cell_type": "code",
      "metadata": {
        "colab": {
          "base_uri": "https://localhost:8080/",
          "height": 386
        },
        "id": "3CCzDOZyc6Jb",
        "outputId": "1de6ca0b-f2c5-4905-b44b-f2c72ac7003c"
      },
      "source": [
        "sns.displot(train['Sales'])"
      ],
      "execution_count": 11,
      "outputs": [
        {
          "output_type": "execute_result",
          "data": {
            "text/plain": [
              "<seaborn.axisgrid.FacetGrid at 0x7f8be0cd7d10>"
            ]
          },
          "metadata": {},
          "execution_count": 11
        },
        {
          "output_type": "display_data",
          "data": {
            "image/png": "[encoded data removed]",
            "text/plain": [
              "<Figure size 360x360 with 1 Axes>"
            ]
          },
          "metadata": {
            "needs_background": "light"
          }
        }
      ]
    },
    {
      "cell_type": "code",
      "metadata": {
        "colab": {
          "base_uri": "https://localhost:8080/",
          "height": 427
        },
        "id": "10WsKn9Sdovm",
        "outputId": "2f3f7b4f-529f-4cc2-f32e-514507d3a863"
      },
      "source": [
        "# Obviously there are some outliers present \n",
        "\n",
        "# Without diving too deep into the topic, we can deal with the problem easily by removing 0.5%, or 1% of the problematic samples\n",
        "# Here, the outliers are situated around the higher prices (right side of the graph)\n",
        "# Logic should also be applied\n",
        "# This is a dataset about used cars, therefore one can imagine how $300,000 is an excessive price\n",
        "\n",
        "# Outliers are a great issue for OLS, thus we must deal with them in some way\n",
        "# It may be a useful exercise to try training a model without removing the outliers\n",
        "\n",
        "# Let's declare a variable that will be equal to the 99th percentile of the 'Price' variable\n",
        "q = train['Sales'].quantile(0.99)\n",
        "# Then we can create a new df, with the condition that all prices must be below the 99 percentile of 'Price'\n",
        "data_1 = train[train['Sales']<q]\n",
        "# In this way we have essentially removed the top 1% of the data about 'Price'\n",
        "data_1.describe(include='all')"
      ],
      "execution_count": 12,
      "outputs": [
        {
          "output_type": "execute_result",
          "data": {
            "text/html": [
              "<div>\n",
              "<style scoped>\n",
              "    .dataframe tbody tr th:only-of-type {\n",
              "        vertical-align: middle;\n",
              "    }\n",
              "\n",
              "    .dataframe tbody tr th {\n",
              "        vertical-align: top;\n",
              "    }\n",
              "\n",
              "    .dataframe thead th {\n",
              "        text-align: right;\n",
              "    }\n",
              "</style>\n",
              "<table border=\"1\" class=\"dataframe\">\n",
              "  <thead>\n",
              "    <tr style=\"text-align: right;\">\n",
              "      <th></th>\n",
              "      <th>ID</th>\n",
              "      <th>Store_id</th>\n",
              "      <th>Store_Type</th>\n",
              "      <th>Location_Type</th>\n",
              "      <th>Region_Code</th>\n",
              "      <th>Date</th>\n",
              "      <th>Holiday</th>\n",
              "      <th>Discount</th>\n",
              "      <th>#Order</th>\n",
              "      <th>Sales</th>\n",
              "    </tr>\n",
              "  </thead>\n",
              "  <tbody>\n",
              "    <tr>\n",
              "      <th>count</th>\n",
              "      <td>186455</td>\n",
              "      <td>186455.000000</td>\n",
              "      <td>186455</td>\n",
              "      <td>186455</td>\n",
              "      <td>186455</td>\n",
              "      <td>186455</td>\n",
              "      <td>186455.000000</td>\n",
              "      <td>186455</td>\n",
              "      <td>186455.000000</td>\n",
              "      <td>186455.000000</td>\n",
              "    </tr>\n",
              "    <tr>\n",
              "      <th>unique</th>\n",
              "      <td>186455</td>\n",
              "      <td>NaN</td>\n",
              "      <td>4</td>\n",
              "      <td>5</td>\n",
              "      <td>4</td>\n",
              "      <td>516</td>\n",
              "      <td>NaN</td>\n",
              "      <td>2</td>\n",
              "      <td>NaN</td>\n",
              "      <td>NaN</td>\n",
              "    </tr>\n",
              "    <tr>\n",
              "      <th>top</th>\n",
              "      <td>T1088315</td>\n",
              "      <td>NaN</td>\n",
              "      <td>S1</td>\n",
              "      <td>L1</td>\n",
              "      <td>R1</td>\n",
              "      <td>2019-01-31</td>\n",
              "      <td>NaN</td>\n",
              "      <td>No</td>\n",
              "      <td>NaN</td>\n",
              "      <td>NaN</td>\n",
              "    </tr>\n",
              "    <tr>\n",
              "      <th>freq</th>\n",
              "      <td>1</td>\n",
              "      <td>NaN</td>\n",
              "      <td>88706</td>\n",
              "      <td>85024</td>\n",
              "      <td>62740</td>\n",
              "      <td>365</td>\n",
              "      <td>NaN</td>\n",
              "      <td>103602</td>\n",
              "      <td>NaN</td>\n",
              "      <td>NaN</td>\n",
              "    </tr>\n",
              "    <tr>\n",
              "      <th>mean</th>\n",
              "      <td>NaN</td>\n",
              "      <td>182.867668</td>\n",
              "      <td>NaN</td>\n",
              "      <td>NaN</td>\n",
              "      <td>NaN</td>\n",
              "      <td>NaN</td>\n",
              "      <td>0.132375</td>\n",
              "      <td>NaN</td>\n",
              "      <td>67.011048</td>\n",
              "      <td>42017.404721</td>\n",
              "    </tr>\n",
              "    <tr>\n",
              "      <th>std</th>\n",
              "      <td>NaN</td>\n",
              "      <td>105.451277</td>\n",
              "      <td>NaN</td>\n",
              "      <td>NaN</td>\n",
              "      <td>NaN</td>\n",
              "      <td>NaN</td>\n",
              "      <td>0.338899</td>\n",
              "      <td>NaN</td>\n",
              "      <td>27.969388</td>\n",
              "      <td>16802.819315</td>\n",
              "    </tr>\n",
              "    <tr>\n",
              "      <th>min</th>\n",
              "      <td>NaN</td>\n",
              "      <td>1.000000</td>\n",
              "      <td>NaN</td>\n",
              "      <td>NaN</td>\n",
              "      <td>NaN</td>\n",
              "      <td>NaN</td>\n",
              "      <td>0.000000</td>\n",
              "      <td>NaN</td>\n",
              "      <td>0.000000</td>\n",
              "      <td>0.000000</td>\n",
              "    </tr>\n",
              "    <tr>\n",
              "      <th>25%</th>\n",
              "      <td>NaN</td>\n",
              "      <td>91.000000</td>\n",
              "      <td>NaN</td>\n",
              "      <td>NaN</td>\n",
              "      <td>NaN</td>\n",
              "      <td>NaN</td>\n",
              "      <td>0.000000</td>\n",
              "      <td>NaN</td>\n",
              "      <td>48.000000</td>\n",
              "      <td>30330.000000</td>\n",
              "    </tr>\n",
              "    <tr>\n",
              "      <th>50%</th>\n",
              "      <td>NaN</td>\n",
              "      <td>183.000000</td>\n",
              "      <td>NaN</td>\n",
              "      <td>NaN</td>\n",
              "      <td>NaN</td>\n",
              "      <td>NaN</td>\n",
              "      <td>0.000000</td>\n",
              "      <td>NaN</td>\n",
              "      <td>62.000000</td>\n",
              "      <td>39477.000000</td>\n",
              "    </tr>\n",
              "    <tr>\n",
              "      <th>75%</th>\n",
              "      <td>NaN</td>\n",
              "      <td>274.000000</td>\n",
              "      <td>NaN</td>\n",
              "      <td>NaN</td>\n",
              "      <td>NaN</td>\n",
              "      <td>NaN</td>\n",
              "      <td>0.000000</td>\n",
              "      <td>NaN</td>\n",
              "      <td>81.000000</td>\n",
              "      <td>51415.860000</td>\n",
              "    </tr>\n",
              "    <tr>\n",
              "      <th>max</th>\n",
              "      <td>NaN</td>\n",
              "      <td>365.000000</td>\n",
              "      <td>NaN</td>\n",
              "      <td>NaN</td>\n",
              "      <td>NaN</td>\n",
              "      <td>NaN</td>\n",
              "      <td>1.000000</td>\n",
              "      <td>NaN</td>\n",
              "      <td>232.000000</td>\n",
              "      <td>102150.000000</td>\n",
              "    </tr>\n",
              "  </tbody>\n",
              "</table>\n",
              "</div>"
            ],
            "text/plain": [
              "              ID       Store_id  ...         #Order          Sales\n",
              "count     186455  186455.000000  ...  186455.000000  186455.000000\n",
              "unique    186455            NaN  ...            NaN            NaN\n",
              "top     T1088315            NaN  ...            NaN            NaN\n",
              "freq           1            NaN  ...            NaN            NaN\n",
              "mean         NaN     182.867668  ...      67.011048   42017.404721\n",
              "std          NaN     105.451277  ...      27.969388   16802.819315\n",
              "min          NaN       1.000000  ...       0.000000       0.000000\n",
              "25%          NaN      91.000000  ...      48.000000   30330.000000\n",
              "50%          NaN     183.000000  ...      62.000000   39477.000000\n",
              "75%          NaN     274.000000  ...      81.000000   51415.860000\n",
              "max          NaN     365.000000  ...     232.000000  102150.000000\n",
              "\n",
              "[11 rows x 10 columns]"
            ]
          },
          "metadata": {},
          "execution_count": 12
        }
      ]
    },
    {
      "cell_type": "code",
      "metadata": {
        "id": "tUqhiR-ffWwK"
      },
      "source": [
        "data_cleaned = data_1.reset_index(drop=True)"
      ],
      "execution_count": 13,
      "outputs": []
    },
    {
      "cell_type": "code",
      "metadata": {
        "colab": {
          "base_uri": "https://localhost:8080/",
          "height": 419
        },
        "id": "Q8MsXeTifhDo",
        "outputId": "530e8fe5-a61d-44b6-a47a-3dcc231bac99"
      },
      "source": [
        "data_cleaned"
      ],
      "execution_count": 15,
      "outputs": [
        {
          "output_type": "execute_result",
          "data": {
            "text/html": [
              "<div>\n",
              "<style scoped>\n",
              "    .dataframe tbody tr th:only-of-type {\n",
              "        vertical-align: middle;\n",
              "    }\n",
              "\n",
              "    .dataframe tbody tr th {\n",
              "        vertical-align: top;\n",
              "    }\n",
              "\n",
              "    .dataframe thead th {\n",
              "        text-align: right;\n",
              "    }\n",
              "</style>\n",
              "<table border=\"1\" class=\"dataframe\">\n",
              "  <thead>\n",
              "    <tr style=\"text-align: right;\">\n",
              "      <th></th>\n",
              "      <th>ID</th>\n",
              "      <th>Store_id</th>\n",
              "      <th>Store_Type</th>\n",
              "      <th>Location_Type</th>\n",
              "      <th>Region_Code</th>\n",
              "      <th>Date</th>\n",
              "      <th>Holiday</th>\n",
              "      <th>Discount</th>\n",
              "      <th>#Order</th>\n",
              "      <th>Sales</th>\n",
              "    </tr>\n",
              "  </thead>\n",
              "  <tbody>\n",
              "    <tr>\n",
              "      <th>0</th>\n",
              "      <td>T1000001</td>\n",
              "      <td>1</td>\n",
              "      <td>S1</td>\n",
              "      <td>L3</td>\n",
              "      <td>R1</td>\n",
              "      <td>2018-01-01</td>\n",
              "      <td>1</td>\n",
              "      <td>Yes</td>\n",
              "      <td>9</td>\n",
              "      <td>7011.84</td>\n",
              "    </tr>\n",
              "    <tr>\n",
              "      <th>1</th>\n",
              "      <td>T1000002</td>\n",
              "      <td>253</td>\n",
              "      <td>S4</td>\n",
              "      <td>L2</td>\n",
              "      <td>R1</td>\n",
              "      <td>2018-01-01</td>\n",
              "      <td>1</td>\n",
              "      <td>Yes</td>\n",
              "      <td>60</td>\n",
              "      <td>51789.12</td>\n",
              "    </tr>\n",
              "    <tr>\n",
              "      <th>2</th>\n",
              "      <td>T1000003</td>\n",
              "      <td>252</td>\n",
              "      <td>S3</td>\n",
              "      <td>L2</td>\n",
              "      <td>R1</td>\n",
              "      <td>2018-01-01</td>\n",
              "      <td>1</td>\n",
              "      <td>Yes</td>\n",
              "      <td>42</td>\n",
              "      <td>36868.20</td>\n",
              "    </tr>\n",
              "    <tr>\n",
              "      <th>3</th>\n",
              "      <td>T1000004</td>\n",
              "      <td>251</td>\n",
              "      <td>S2</td>\n",
              "      <td>L3</td>\n",
              "      <td>R1</td>\n",
              "      <td>2018-01-01</td>\n",
              "      <td>1</td>\n",
              "      <td>Yes</td>\n",
              "      <td>23</td>\n",
              "      <td>19715.16</td>\n",
              "    </tr>\n",
              "    <tr>\n",
              "      <th>4</th>\n",
              "      <td>T1000005</td>\n",
              "      <td>250</td>\n",
              "      <td>S2</td>\n",
              "      <td>L3</td>\n",
              "      <td>R4</td>\n",
              "      <td>2018-01-01</td>\n",
              "      <td>1</td>\n",
              "      <td>Yes</td>\n",
              "      <td>62</td>\n",
              "      <td>45614.52</td>\n",
              "    </tr>\n",
              "    <tr>\n",
              "      <th>...</th>\n",
              "      <td>...</td>\n",
              "      <td>...</td>\n",
              "      <td>...</td>\n",
              "      <td>...</td>\n",
              "      <td>...</td>\n",
              "      <td>...</td>\n",
              "      <td>...</td>\n",
              "      <td>...</td>\n",
              "      <td>...</td>\n",
              "      <td>...</td>\n",
              "    </tr>\n",
              "    <tr>\n",
              "      <th>186450</th>\n",
              "      <td>T1188336</td>\n",
              "      <td>149</td>\n",
              "      <td>S2</td>\n",
              "      <td>L3</td>\n",
              "      <td>R2</td>\n",
              "      <td>2019-05-31</td>\n",
              "      <td>1</td>\n",
              "      <td>Yes</td>\n",
              "      <td>51</td>\n",
              "      <td>37272.00</td>\n",
              "    </tr>\n",
              "    <tr>\n",
              "      <th>186451</th>\n",
              "      <td>T1188337</td>\n",
              "      <td>153</td>\n",
              "      <td>S4</td>\n",
              "      <td>L2</td>\n",
              "      <td>R1</td>\n",
              "      <td>2019-05-31</td>\n",
              "      <td>1</td>\n",
              "      <td>No</td>\n",
              "      <td>90</td>\n",
              "      <td>54572.64</td>\n",
              "    </tr>\n",
              "    <tr>\n",
              "      <th>186452</th>\n",
              "      <td>T1188338</td>\n",
              "      <td>154</td>\n",
              "      <td>S1</td>\n",
              "      <td>L3</td>\n",
              "      <td>R2</td>\n",
              "      <td>2019-05-31</td>\n",
              "      <td>1</td>\n",
              "      <td>No</td>\n",
              "      <td>56</td>\n",
              "      <td>31624.56</td>\n",
              "    </tr>\n",
              "    <tr>\n",
              "      <th>186453</th>\n",
              "      <td>T1188339</td>\n",
              "      <td>155</td>\n",
              "      <td>S3</td>\n",
              "      <td>L1</td>\n",
              "      <td>R2</td>\n",
              "      <td>2019-05-31</td>\n",
              "      <td>1</td>\n",
              "      <td>Yes</td>\n",
              "      <td>70</td>\n",
              "      <td>49162.41</td>\n",
              "    </tr>\n",
              "    <tr>\n",
              "      <th>186454</th>\n",
              "      <td>T1188340</td>\n",
              "      <td>152</td>\n",
              "      <td>S2</td>\n",
              "      <td>L1</td>\n",
              "      <td>R1</td>\n",
              "      <td>2019-05-31</td>\n",
              "      <td>1</td>\n",
              "      <td>No</td>\n",
              "      <td>47</td>\n",
              "      <td>37977.00</td>\n",
              "    </tr>\n",
              "  </tbody>\n",
              "</table>\n",
              "<p>186455 rows × 10 columns</p>\n",
              "</div>"
            ],
            "text/plain": [
              "              ID  Store_id Store_Type  ... Discount #Order     Sales\n",
              "0       T1000001         1         S1  ...      Yes      9   7011.84\n",
              "1       T1000002       253         S4  ...      Yes     60  51789.12\n",
              "2       T1000003       252         S3  ...      Yes     42  36868.20\n",
              "3       T1000004       251         S2  ...      Yes     23  19715.16\n",
              "4       T1000005       250         S2  ...      Yes     62  45614.52\n",
              "...          ...       ...        ...  ...      ...    ...       ...\n",
              "186450  T1188336       149         S2  ...      Yes     51  37272.00\n",
              "186451  T1188337       153         S4  ...       No     90  54572.64\n",
              "186452  T1188338       154         S1  ...       No     56  31624.56\n",
              "186453  T1188339       155         S3  ...      Yes     70  49162.41\n",
              "186454  T1188340       152         S2  ...       No     47  37977.00\n",
              "\n",
              "[186455 rows x 10 columns]"
            ]
          },
          "metadata": {},
          "execution_count": 15
        }
      ]
    },
    {
      "cell_type": "markdown",
      "metadata": {
        "id": "2cuerV2nhVqu"
      },
      "source": [
        "Dealing with categorical variables"
      ]
    },
    {
      "cell_type": "code",
      "metadata": {
        "id": "7ZQgzI3Ohrcz"
      },
      "source": [
        "traind = data_cleaned"
      ],
      "execution_count": 16,
      "outputs": []
    },
    {
      "cell_type": "code",
      "metadata": {
        "id": "H8vgEPX7iL08"
      },
      "source": [
        "testd = test"
      ],
      "execution_count": 19,
      "outputs": []
    },
    {
      "cell_type": "code",
      "metadata": {
        "id": "EON7ZTl1frW2"
      },
      "source": [
        "le = LabelEncoder()\n",
        "var_mod = traind.select_dtypes(include='object').columns\n",
        "for i in var_mod:\n",
        "    traind[i] = le.fit_transform(traind[i].astype(str))"
      ],
      "execution_count": 17,
      "outputs": []
    },
    {
      "cell_type": "code",
      "metadata": {
        "id": "A5ZlZiu9iDAx"
      },
      "source": [
        "le = LabelEncoder()\n",
        "var_mod = testd.select_dtypes(include='object').columns\n",
        "for i in var_mod:\n",
        "    testd[i] = le.fit_transform(testd[i].astype(str))"
      ],
      "execution_count": 20,
      "outputs": []
    },
    {
      "cell_type": "code",
      "metadata": {
        "id": "doB8P2nQnbUn"
      },
      "source": [
        "# The target(s) \n",
        "targets = traind['Sales']\n",
        "\n",
        "# The inputs \n",
        "inputs = traind.drop(['#Order','Sales'],axis=1)"
      ],
      "execution_count": 22,
      "outputs": []
    },
    {
      "cell_type": "markdown",
      "metadata": {
        "id": "T6A--ElUnQ-D"
      },
      "source": [
        "Scaling"
      ]
    },
    {
      "cell_type": "code",
      "metadata": {
        "id": "Cc7vGcZnnN5K"
      },
      "source": [
        "scaled_inputs_train = preprocessing.scale(inputs)\n",
        "scaled_inputs_test =  preprocessing.scale(testd)"
      ],
      "execution_count": 23,
      "outputs": []
    },
    {
      "cell_type": "code",
      "metadata": {
        "id": "XC7SfN6moY95"
      },
      "source": [
        "samples_count = scaled_inputs_train.shape[0]\n",
        "\n",
        "# Count the samples in each subset, assuming we want 80-10-10 distribution of training, validation, and test.\n",
        "# Naturally, the numbers are integers.\n",
        "train_samples_count = int(0.8 * samples_count)\n",
        "validation_samples_count = int(0.2 * samples_count)\n",
        "\n",
        "\n",
        "\n",
        "# Create variables that record the inputs and targets for training\n",
        "# In our shuffled dataset, they are the first \"train_samples_count\" observations\n",
        "train_inputs = scaled_inputs_train[:train_samples_count]\n",
        "train_targets = targets[:train_samples_count]\n",
        "\n",
        "# Create variables that record the inputs and targets for validation.\n",
        "# They are the next \"validation_samples_count\" observations, folllowing the \"train_samples_count\" we already assigned\n",
        "validation_inputs = scaled_inputs_train[train_samples_count:train_samples_count+validation_samples_count]\n",
        "validation_targets = targets[train_samples_count:train_samples_count+validation_samples_count]"
      ],
      "execution_count": 27,
      "outputs": []
    },
    {
      "cell_type": "code",
      "metadata": {
        "colab": {
          "base_uri": "https://localhost:8080/"
        },
        "id": "9D4JNomUpMOB",
        "outputId": "494a8d2b-14b4-4586-f62a-8ace95e7b3f3"
      },
      "source": [
        "scaled_inputs_test.shape"
      ],
      "execution_count": 29,
      "outputs": [
        {
          "output_type": "execute_result",
          "data": {
            "text/plain": [
              "(22265, 8)"
            ]
          },
          "metadata": {},
          "execution_count": 29
        }
      ]
    },
    {
      "cell_type": "markdown",
      "metadata": {
        "id": "vx6qoMlopgeP"
      },
      "source": [
        "MOdel"
      ]
    },
    {
      "cell_type": "code",
      "metadata": {
        "id": "nI0_pztOpfcf"
      },
      "source": [
        "input_size = 8\n",
        "output_size = 1\n",
        "# Use same hidden layer size for both hidden layers. Not a necessity.\n",
        "hidden_layer_size = 50\n",
        "    \n",
        "# define how the model will look like\n",
        "model = tf.keras.Sequential([\n",
        "    \n",
        "    \n",
        "    tf.keras.layers.Dense(hidden_layer_size, activation='relu'), # 1st hidden layer\n",
        "    tf.keras.layers.Dense(hidden_layer_size, activation='relu'), # 2nd hidden layer\n",
        "    \n",
        "    tf.keras.layers.Dense(output_size, activation= 'linear') # output layer\n",
        "])"
      ],
      "execution_count": 30,
      "outputs": []
    },
    {
      "cell_type": "code",
      "metadata": {
        "id": "HOmluRbfq7Bz"
      },
      "source": [
        "model.compile(optimizer='adam', loss='mse', metrics=['mse','mae'])"
      ],
      "execution_count": 31,
      "outputs": []
    },
    {
      "cell_type": "markdown",
      "metadata": {
        "id": "dwkoQIF4rsS_"
      },
      "source": [
        "Training the model"
      ]
    },
    {
      "cell_type": "code",
      "metadata": {
        "colab": {
          "base_uri": "https://localhost:8080/"
        },
        "id": "OuZmp9gArr3S",
        "outputId": "d56a5ea6-59b9-4df0-c5ce-908d3402100e"
      },
      "source": [
        "batch_size = 100\n",
        "\n",
        "# set a maximum number of training epochs\n",
        "max_epochs = 100\n",
        "\n",
        "# set an early stopping mechanism\n",
        "# let's set patience=2, to be a bit tolerant against random validation loss increases\n",
        "early_stopping = tf.keras.callbacks.EarlyStopping(patience=2)\n",
        "\n",
        "# fit the model\n",
        "# note that this time the train, validation and test data are not iterable\n",
        "model.fit(train_inputs, # train inputs\n",
        "          train_targets, # train targets\n",
        "          batch_size=batch_size, # batch size\n",
        "          epochs=max_epochs, # epochs that we will train for (assuming early stopping doesn't kick in)\n",
        "          # callbacks are functions called by a task when a task is completed\n",
        "          # task here is to check if val_loss is increasing\n",
        "          callbacks=[early_stopping], # early stopping\n",
        "          validation_data=(validation_inputs, validation_targets), # validation data\n",
        "          verbose = 2 # making sure we get enough information about the training process\n",
        "          ) "
      ],
      "execution_count": 32,
      "outputs": [
        {
          "output_type": "stream",
          "name": "stdout",
          "text": [
            "Epoch 1/100\n",
            "1492/1492 - 3s - loss: 1333661312.0000 - mse: 1333661312.0000 - mae: 31889.2246 - val_loss: 1371041792.0000 - val_mse: 1371041792.0000 - val_mae: 34067.5000\n",
            "Epoch 2/100\n",
            "1492/1492 - 2s - loss: 274489632.0000 - mse: 274489600.0000 - mae: 12673.4502 - val_loss: 223278096.0000 - val_mse: 223278096.0000 - val_mae: 11098.3350\n",
            "Epoch 3/100\n",
            "1492/1492 - 2s - loss: 160534784.0000 - mse: 160534784.0000 - mae: 9560.4912 - val_loss: 174983744.0000 - val_mse: 174983728.0000 - val_mae: 9926.9033\n",
            "Epoch 4/100\n",
            "1492/1492 - 2s - loss: 152008096.0000 - mse: 152008096.0000 - mae: 9270.6719 - val_loss: 169701168.0000 - val_mse: 169701168.0000 - val_mae: 9780.8184\n",
            "Epoch 5/100\n",
            "1492/1492 - 2s - loss: 147444400.0000 - mse: 147444400.0000 - mae: 9105.1035 - val_loss: 165996112.0000 - val_mse: 165996112.0000 - val_mae: 9657.9805\n",
            "Epoch 6/100\n",
            "1492/1492 - 2s - loss: 143842448.0000 - mse: 143842448.0000 - mae: 8970.5508 - val_loss: 161595664.0000 - val_mse: 161595664.0000 - val_mae: 9572.1748\n",
            "Epoch 7/100\n",
            "1492/1492 - 2s - loss: 140732880.0000 - mse: 140732880.0000 - mae: 8851.9600 - val_loss: 158967008.0000 - val_mse: 158967008.0000 - val_mae: 9453.8252\n",
            "Epoch 8/100\n",
            "1492/1492 - 2s - loss: 138306704.0000 - mse: 138306704.0000 - mae: 8753.1533 - val_loss: 156540592.0000 - val_mse: 156540592.0000 - val_mae: 9388.5947\n",
            "Epoch 9/100\n",
            "1492/1492 - 2s - loss: 136457856.0000 - mse: 136457856.0000 - mae: 8676.4502 - val_loss: 154014720.0000 - val_mse: 154014720.0000 - val_mae: 9267.4492\n",
            "Epoch 10/100\n",
            "1492/1492 - 2s - loss: 135131408.0000 - mse: 135131408.0000 - mae: 8617.4053 - val_loss: 153838464.0000 - val_mse: 153838464.0000 - val_mae: 9239.7559\n",
            "Epoch 11/100\n",
            "1492/1492 - 2s - loss: 134171840.0000 - mse: 134171840.0000 - mae: 8578.0430 - val_loss: 152526944.0000 - val_mse: 152526944.0000 - val_mae: 9228.0996\n",
            "Epoch 12/100\n",
            "1492/1492 - 2s - loss: 133511200.0000 - mse: 133511216.0000 - mae: 8547.9600 - val_loss: 152110464.0000 - val_mse: 152110464.0000 - val_mae: 9148.5684\n",
            "Epoch 13/100\n",
            "1492/1492 - 2s - loss: 133003600.0000 - mse: 133003600.0000 - mae: 8523.0039 - val_loss: 151578336.0000 - val_mse: 151578336.0000 - val_mae: 9216.5166\n",
            "Epoch 14/100\n",
            "1492/1492 - 2s - loss: 132586432.0000 - mse: 132586432.0000 - mae: 8506.7275 - val_loss: 150955888.0000 - val_mse: 150955888.0000 - val_mae: 9144.8213\n",
            "Epoch 15/100\n",
            "1492/1492 - 2s - loss: 132229464.0000 - mse: 132229464.0000 - mae: 8488.6689 - val_loss: 150706784.0000 - val_mse: 150706800.0000 - val_mae: 9201.0557\n",
            "Epoch 16/100\n",
            "1492/1492 - 2s - loss: 131954200.0000 - mse: 131954200.0000 - mae: 8477.9355 - val_loss: 150281856.0000 - val_mse: 150281856.0000 - val_mae: 9121.3389\n",
            "Epoch 17/100\n",
            "1492/1492 - 2s - loss: 131734912.0000 - mse: 131734912.0000 - mae: 8466.3809 - val_loss: 150541648.0000 - val_mse: 150541648.0000 - val_mae: 9194.1357\n",
            "Epoch 18/100\n",
            "1492/1492 - 2s - loss: 131535144.0000 - mse: 131535144.0000 - mae: 8460.8291 - val_loss: 149685984.0000 - val_mse: 149685984.0000 - val_mae: 9131.8379\n",
            "Epoch 19/100\n",
            "1492/1492 - 2s - loss: 131369048.0000 - mse: 131369048.0000 - mae: 8453.2617 - val_loss: 149407344.0000 - val_mse: 149407344.0000 - val_mae: 9148.6895\n",
            "Epoch 20/100\n",
            "1492/1492 - 2s - loss: 131246560.0000 - mse: 131246560.0000 - mae: 8446.8496 - val_loss: 149570656.0000 - val_mse: 149570656.0000 - val_mae: 9149.0107\n",
            "Epoch 21/100\n",
            "1492/1492 - 2s - loss: 131115232.0000 - mse: 131115232.0000 - mae: 8442.3545 - val_loss: 149391072.0000 - val_mse: 149391072.0000 - val_mae: 9156.5840\n",
            "Epoch 22/100\n",
            "1492/1492 - 2s - loss: 131010448.0000 - mse: 131010448.0000 - mae: 8437.3633 - val_loss: 149376000.0000 - val_mse: 149376000.0000 - val_mae: 9162.8281\n",
            "Epoch 23/100\n",
            "1492/1492 - 2s - loss: 130890632.0000 - mse: 130890632.0000 - mae: 8432.1113 - val_loss: 149363136.0000 - val_mse: 149363136.0000 - val_mae: 9192.4268\n",
            "Epoch 24/100\n",
            "1492/1492 - 2s - loss: 130784264.0000 - mse: 130784264.0000 - mae: 8428.5928 - val_loss: 149354736.0000 - val_mse: 149354736.0000 - val_mae: 9169.5039\n",
            "Epoch 25/100\n",
            "1492/1492 - 2s - loss: 130715816.0000 - mse: 130715848.0000 - mae: 8426.9062 - val_loss: 148458528.0000 - val_mse: 148458528.0000 - val_mae: 9106.9541\n",
            "Epoch 26/100\n",
            "1492/1492 - 2s - loss: 130626360.0000 - mse: 130626360.0000 - mae: 8423.2988 - val_loss: 148368464.0000 - val_mse: 148368464.0000 - val_mae: 9102.5381\n",
            "Epoch 27/100\n",
            "1492/1492 - 2s - loss: 130570616.0000 - mse: 130570616.0000 - mae: 8419.7480 - val_loss: 148155232.0000 - val_mse: 148155232.0000 - val_mae: 9128.6807\n",
            "Epoch 28/100\n",
            "1492/1492 - 2s - loss: 130505760.0000 - mse: 130505760.0000 - mae: 8418.4658 - val_loss: 148148384.0000 - val_mse: 148148384.0000 - val_mae: 9135.8496\n",
            "Epoch 29/100\n",
            "1492/1492 - 2s - loss: 130449312.0000 - mse: 130449312.0000 - mae: 8415.2334 - val_loss: 148065440.0000 - val_mse: 148065440.0000 - val_mae: 9121.7129\n",
            "Epoch 30/100\n",
            "1492/1492 - 2s - loss: 130406640.0000 - mse: 130406640.0000 - mae: 8415.0576 - val_loss: 148150176.0000 - val_mse: 148150176.0000 - val_mae: 9134.5693\n",
            "Epoch 31/100\n",
            "1492/1492 - 2s - loss: 130353144.0000 - mse: 130353144.0000 - mae: 8411.5508 - val_loss: 148674400.0000 - val_mse: 148674400.0000 - val_mae: 9172.6406\n"
          ]
        },
        {
          "output_type": "execute_result",
          "data": {
            "text/plain": [
              "<keras.callbacks.History at 0x7f8b76468d10>"
            ]
          },
          "metadata": {},
          "execution_count": 32
        }
      ]
    },
    {
      "cell_type": "markdown",
      "metadata": {
        "id": "ltJt-xQiyk80"
      },
      "source": [
        "model through simple linear regression"
      ]
    },
    {
      "cell_type": "markdown",
      "metadata": {
        "id": "1xagEpiLyvl-"
      },
      "source": [
        "Testing"
      ]
    },
    {
      "cell_type": "code",
      "metadata": {
        "id": "tCreflTbytlf"
      },
      "source": [
        "submission_now = pd.read_csv('TEST_FINAL.csv')\n",
        "final_predictions = model.predict(scaled_inputs_test)\n",
        "submission_now['Sales'] = final_predictions\n"
      ],
      "execution_count": 37,
      "outputs": []
    },
    {
      "cell_type": "code",
      "metadata": {
        "id": "kYM1Nt5w0R2Q"
      },
      "source": [
        "#only positive predictions for the target variable\n",
        "submission_now['Sales'] = submission_now['Sales'].apply(lambda x: 0 if x<0 else x)\n",
        "submission_now.to_csv('my_submission.csv', index=False)"
      ],
      "execution_count": 39,
      "outputs": []
    }
  ]
}